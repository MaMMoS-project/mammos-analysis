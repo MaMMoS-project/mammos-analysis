{
 "cells": [
  {
   "cell_type": "markdown",
   "id": "e23f5233-e692-4e20-99c2-1909318de04f",
   "metadata": {},
   "source": [
    "# `mammos_analysis` quickstart"
   ]
  },
  {
   "cell_type": "code",
   "execution_count": null,
   "id": "a3a450b1-27d2-4df7-bf2c-7f0e25c2f454",
   "metadata": {},
   "outputs": [],
   "source": []
  }
 ],
 "metadata": {
  "kernelspec": {
   "display_name": "Python 3 (ipykernel)",
   "language": "python",
   "name": "python3"
  },
  "language_info": {
   "codemirror_mode": {
    "name": "ipython",
    "version": 3
   },
   "file_extension": ".py",
   "mimetype": "text/x-python",
   "name": "python",
   "nbconvert_exporter": "python",
   "pygments_lexer": "ipython3",
   "version": "3.11.0"
  }
 },
 "nbformat": 4,
 "nbformat_minor": 5
}
